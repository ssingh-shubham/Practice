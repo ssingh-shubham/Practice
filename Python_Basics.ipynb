{
  "cells": [
    {
      "cell_type": "markdown",
      "metadata": {
        "id": "view-in-github",
        "colab_type": "text"
      },
      "source": [
        "<a href=\"https://colab.research.google.com/github/ssingh-shubham/Practice/blob/main/Python_Basics.ipynb\" target=\"_parent\"><img src=\"https://colab.research.google.com/assets/colab-badge.svg\" alt=\"Open In Colab\"/></a>"
      ]
    },
    {
      "cell_type": "code",
      "source": [
        "a = float(input('enter first side: '))\n",
        "b = float(input('enter second side: '))\n",
        "c = float(input('enter third side: '))\n",
        "# calculate the semmiperimeter\n",
        "s = (a + b + c) / 2\n",
        "# calculte the area\n",
        "area = (s*(s-a)*(s-b)*(s-c))\n",
        "print(area)"
      ],
      "metadata": {
        "colab": {
          "base_uri": "https://localhost:8080/"
        },
        "id": "wZv_HK4R57qc",
        "outputId": "efaab9c5-b1c6-48c5-bfc2-ad0b45823fa4"
      },
      "execution_count": null,
      "outputs": [
        {
          "output_type": "stream",
          "name": "stdout",
          "text": [
            "enter first side: 3\n",
            "enter second side: 4\n",
            "enter third side: 5\n",
            "36.0\n"
          ]
        }
      ]
    },
    {
      "cell_type": "code",
      "source": [
        "r = float(input(\"enter radius: \"))\n",
        "# calculate the area\n",
        "area = 3.14*r*r\n",
        "print(area)"
      ],
      "metadata": {
        "id": "Akgr3APPARoY",
        "outputId": "a037a8e6-7a26-4a5d-8d5b-46af3c415104",
        "colab": {
          "base_uri": "https://localhost:8080/"
        }
      },
      "execution_count": null,
      "outputs": [
        {
          "output_type": "stream",
          "name": "stdout",
          "text": [
            "enter radius: 3\n",
            "28.259999999999998\n"
          ]
        }
      ]
    },
    {
      "cell_type": "code",
      "source": [
        "a = float(input('enter side a: '))\n",
        "b = float(input('enter side b: '))\n",
        "# calculate the area\n",
        "area = a*b\n",
        "print(area)"
      ],
      "metadata": {
        "colab": {
          "base_uri": "https://localhost:8080/"
        },
        "id": "pFwwjivp9gg_",
        "outputId": "8b753347-676b-4793-dc63-b90306c72e9c"
      },
      "execution_count": null,
      "outputs": [
        {
          "output_type": "stream",
          "name": "stdout",
          "text": [
            "enter side a: 3\n",
            "enter side b: 4\n",
            "12.0\n"
          ]
        }
      ]
    },
    {
      "cell_type": "code",
      "source": [
        "a = float(input('enter side of the square: '))\n",
        "#calculate the area\n",
        "area = a*a\n",
        "print(area)"
      ],
      "metadata": {
        "id": "2oRW5olt_aZt",
        "outputId": "d010267f-7b8c-412e-e8e6-9b91a2e85d15",
        "colab": {
          "base_uri": "https://localhost:8080/"
        }
      },
      "execution_count": null,
      "outputs": [
        {
          "output_type": "stream",
          "name": "stdout",
          "text": [
            "enter side of the square: 5\n",
            "25.0\n"
          ]
        }
      ]
    },
    {
      "cell_type": "code",
      "source": [
        "sub1= int(input('enter the marks obtained in sub1: '))\n",
        "sub2=int(input('enter the marks obtained in sub2: '))\n",
        "sub3=int(input('enter the marks obtained in sub3: '))\n",
        "sub4=int(input('enter the marks obtained in sub4: '))\n",
        "sub5=int(input('enter the marks obtained in sub5: '))\n",
        "avg=(sub1+sub2+sub3+sub4+sub5)/5\n",
        "if (avg>=90):\n",
        "  print(\"grade A\")\n",
        "elif(avg>=80 and avg<90):\n",
        "   print(\"grade B\")\n",
        "elif(avg>=70 and avg<80):\n",
        "   print(\"garde C\")\n",
        "elif(avg>=60 and avg<70):\n",
        "  print(\"grade D\")\n",
        "else:\n",
        "  print(\"grade F\")\n",
        "\n"
      ],
      "metadata": {
        "id": "qw8XRuD2BCFf",
        "outputId": "4bf88265-1e71-4b78-e3f6-566830b04cea",
        "colab": {
          "base_uri": "https://localhost:8080/"
        }
      },
      "execution_count": null,
      "outputs": [
        {
          "output_type": "stream",
          "name": "stdout",
          "text": [
            "enter the marks obtained in sub1: 56\n",
            "enter the marks obtained in sub2: 67\n",
            "enter the marks obtained in sub3: 65\n",
            "enter the marks obtained in sub4: 65\n",
            "enter the marks obtained in sub5: 67\n",
            "grade D\n"
          ]
        }
      ]
    },
    {
      "cell_type": "code",
      "source": [
        "import cmath\n",
        "a = float(input('enter the value of coefficient a : '))\n",
        "b = float(input('enter the value of coefficient b : '))\n",
        "c = float(input('enter the value of coefficient c : '))\n",
        "#calculate the discriminant\n",
        "d = (b**2) - (4*a*c)\n",
        "#find two solutions\n",
        "sol1 = (-b-cmath.sqrt(d))/(2*a)\n",
        "sol2 = (-b+cmath.sqrt(d))/(2*a)\n",
        "print('the solutions are ', sol1,sol2)"
      ],
      "metadata": {
        "id": "m8naRUmPFroo",
        "outputId": "6244dce4-47ef-47cc-8262-fe879c5fa20d",
        "colab": {
          "base_uri": "https://localhost:8080/"
        }
      },
      "execution_count": null,
      "outputs": [
        {
          "output_type": "stream",
          "name": "stdout",
          "text": [
            "enter the value of coefficient a : 2\n",
            "enter the value of coefficient b : -3\n",
            "enter the value of coefficient c : 1\n",
            "the solutions are  (0.5+0j) (1+0j)\n"
          ]
        }
      ]
    },
    {
      "cell_type": "code",
      "source": [
        "num1=int(input(\"Enter 1st number: \"))\n",
        "num2=int(input(\"Enter 2nd number: \"))\n",
        "num3=int(input(\"Enter 3rd number: \"))\n",
        "if (num1 >= num2) and (num1 >= num3):\n",
        " largest = num1\n",
        "elif (num2 >= num1) and (num2 >= num3):\n",
        " largest = num2\n",
        "else:\n",
        " largest = num3\n",
        "print(\"The largest number between\",num1,\",\",num2,\"and\",num3,\"is\",largest)"
      ],
      "metadata": {
        "id": "tR9JFIUZJmho",
        "outputId": "c627a302-027c-4f52-a4db-fdfe65891ec8",
        "colab": {
          "base_uri": "https://localhost:8080/"
        }
      },
      "execution_count": null,
      "outputs": [
        {
          "output_type": "stream",
          "name": "stdout",
          "text": [
            "Enter 1st number: 2\n",
            "Enter 2nd number: 3\n",
            "Enter 3rd number: 4\n",
            "The largest number between 2 , 3 and 4 is 4\n"
          ]
        }
      ]
    },
    {
      "cell_type": "code",
      "source": [
        "#Largest Nnumber\n",
        "a = int(input(\"enter a number: \"))\n",
        "b = int(input(\"enter second number: \"))\n",
        "c = int(input(\"enter third number: \"))\n",
        "\n",
        "largest = 0\n",
        "\n",
        "if a > b and a > c:\n",
        "    largest = a\n",
        "if b > a and b > c:\n",
        "    largest = b\n",
        "if c > a and c > b:\n",
        "    largest = c\n",
        "\n",
        "print(largest, \"is the largest of the three numbers\")"
      ],
      "metadata": {
        "id": "RSAVHUBTe2t_"
      },
      "execution_count": null,
      "outputs": []
    },
    {
      "cell_type": "code",
      "source": [
        "#Factorial\n",
        "num = int(input(\"Enter a number: \"))\n",
        "factorial = 1\n",
        "if num < 0:\n",
        "   print(\"No factorial exist.\")\n",
        "elif num == 0:\n",
        "   print(\"The factorial of 0 is 1\")\n",
        "else:\n",
        "   for i in range(1,num + 1):\n",
        "       factorial = factorial*i\n",
        "   print(\"The factorial of\",num,\"is\",factorial)"
      ],
      "metadata": {
        "id": "KY2AvJaKe62V"
      },
      "execution_count": null,
      "outputs": []
    },
    {
      "cell_type": "code",
      "source": [
        "# Calculator\n",
        "def add(x, y):\n",
        "    return x + y\n",
        "\n",
        "def subtract(x, y):\n",
        "    return x - y\n",
        "\n",
        "def multiply(x, y):\n",
        "    return x * y\n",
        "\n",
        "def divide(x, y):\n",
        "    return x / y\n",
        "\n",
        "\n",
        "print(\"Select operation.\")\n",
        "print(\"1.Add\")\n",
        "print(\"2.Subtract\")\n",
        "print(\"3.Multiply\")\n",
        "print(\"4.Divide\")\n",
        "\n",
        "while True:\n",
        "    choice = input(\"Enter choice: \")\n",
        "\n",
        "    if choice in ('1', '2', '3', '4'):\n",
        "        try:\n",
        "            num1 = float(input(\"Enter first number: \"))\n",
        "            num2 = float(input(\"Enter second number: \"))\n",
        "        except ValueError:\n",
        "            print(\"Invalid input\")\n",
        "            continue\n",
        "\n",
        "        if choice == '1':\n",
        "            print(num1, \"+\", num2, \"=\", add(num1, num2))\n",
        "\n",
        "        elif choice == '2':\n",
        "            print(num1, \"-\", num2, \"=\", subtract(num1, num2))\n",
        "\n",
        "        elif choice == '3':\n",
        "            print(num1, \"*\", num2, \"=\", multiply(num1, num2))\n",
        "\n",
        "        elif choice == '4':\n",
        "            print(num1, \"/\", num2, \"=\", divide(num1, num2))\n",
        "        break\n",
        "    else:\n",
        "        print(\"Invalid input\")\n"
      ],
      "metadata": {
        "id": "RsoWLVyLe9G0"
      },
      "execution_count": null,
      "outputs": []
    },
    {
      "cell_type": "code",
      "source": [
        "#LCM\n",
        "p = x = int(input(\"Enter any first number: \"))\n",
        "q = y = int(input(\"Enter second number; \"))\n",
        "while x != y:\n",
        "  if x > y:\n",
        "    x = x - y\n",
        "  else:\n",
        "    y = y - x\n",
        "\n",
        "lcm = (p*q)/x\n",
        "\n",
        "print(\"LCM of\", p, \"and\", q, \"is:\", lcm)"
      ],
      "metadata": {
        "id": "_nYg8AqUe_4u"
      },
      "execution_count": null,
      "outputs": []
    },
    {
      "cell_type": "code",
      "source": [
        "#GCD\n",
        "def hcf(x, y):\n",
        "\n",
        "    if x > y:\n",
        "        smaller = y\n",
        "    else:\n",
        "        smaller = x\n",
        "    for i in range(1, smaller+1):\n",
        "        if((x % i == 0) and (y % i == 0)):\n",
        "            hcf = i\n",
        "    return hcf\n",
        "\n",
        "num1 = int(input(\"Enter a number: \"))\n",
        "num2 = int(input(\"Enetr second number: \"))\n",
        "\n",
        "print(\"The H.C.F. is\",hcf(num1, num2))"
      ],
      "metadata": {
        "id": "UayXaGgPfD4o"
      },
      "execution_count": null,
      "outputs": []
    },
    {
      "cell_type": "code",
      "source": [
        "#pascal triangle\n",
        "def pascal(n):\n",
        "   for i in range(n+1):\n",
        "      for j in range(n-i):\n",
        "         print(' ', end='')\n",
        "\n",
        "      C = 1\n",
        "      for j in range(1, i+1):\n",
        "         print(C,' ', sep='', end='')\n",
        "         C = C * (i - j) // j\n",
        "      print()\n",
        "\n",
        "n = int(input(\"Enter any number: \"))\n",
        "pascal(n)"
      ],
      "metadata": {
        "id": "QBNgyxNrfEmO"
      },
      "execution_count": null,
      "outputs": []
    },
    {
      "cell_type": "code",
      "source": [
        "#fibonacci sequence\n",
        "n = int(input(\"Enter length of Fibonacci series: \"))\n",
        "num1 = 0\n",
        "num2 = 1\n",
        "next_number = 0\n",
        "count = 1\n",
        "\n",
        "while(count <= n):\n",
        "\tprint(next_number, end=\" \")\n",
        "\tcount += 1\n",
        "\tnum1 = num2\n",
        "\tnum2 = next_number\n",
        "\tnext_number = num1 + num2\n",
        "\tt_number = num1 + num2\n"
      ],
      "metadata": {
        "id": "-5CMfwkdfKGg"
      },
      "execution_count": null,
      "outputs": []
    }
  ],
  "metadata": {
    "colab": {
      "toc_visible": true,
      "provenance": [],
      "include_colab_link": true
    },
    "kernelspec": {
      "display_name": "Python 3",
      "name": "python3"
    }
  },
  "nbformat": 4,
  "nbformat_minor": 0
}